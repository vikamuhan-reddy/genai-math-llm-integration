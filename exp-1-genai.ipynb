{
 "cells": [
  {
   "cell_type": "code",
   "execution_count": 31,
   "id": "dd147032",
   "metadata": {
    "height": 166
   },
   "outputs": [],
   "source": [
    "import math\n",
    "import os\n",
    "import openai\n",
    "openai.api_key = os.environ['OPENAI_API_KEY']"
   ]
  },
  {
   "cell_type": "code",
   "execution_count": 32,
   "id": "b2b0f757",
   "metadata": {
    "height": 98
   },
   "outputs": [],
   "source": [
    "def calculate_volume_cylinder(radius,height):\n",
    "    if radius < 1 or height <1:\n",
    "        return \"enter proper values\"\n",
    "    vol = 3.14 * radius * radius * height\n",
    "    return round(vol,2)"
   ]
  },
  {
   "cell_type": "code",
   "execution_count": 33,
   "id": "8fd0c266",
   "metadata": {
    "height": 285
   },
   "outputs": [],
   "source": [
    "def chat_with_openai(prompt):\n",
    "    response = openai.ChatCompletion.create(\n",
    "        model=\"gpt-4\",\n",
    "        messages=messages,\n",
    "        functions = functions,\n",
    "        function_call = \"auto\"\n",
    "    )\n",
    "    if \"function_call\" in response[\"choices\"][0][\"message\"]:\n",
    "        function_name = response[\"choices\"][0][\"message\"][\"function_call\"][\"name\"]\n",
    "        arguments = eval(response[\"choices\"][0][\"message\"][\"function_call\"][\"arguments\"])\n",
    "        if function_name == \"calculate_volume_cylinder\":\n",
    "            radius = arguments[\"radius\"]\n",
    "            height = arguments[\"height\"]\n",
    "            return calculate_volume_cylinder(radius, height)\n",
    "                                             \n",
    "    return response[\"choices\"][0][\"message\"][\"content\"]"
   ]
  },
  {
   "cell_type": "code",
   "execution_count": 34,
   "id": "81f6e2a6",
   "metadata": {
    "height": 81
   },
   "outputs": [],
   "source": [
    "messages=[\n",
    "            {\"role\": \"system\", \"content\": \"You are an assistant that helps calculate the volume of a cylinder.\"},\n",
    "            {\"role\": \"user\", \"content\": prompt},\n",
    "        ]"
   ]
  },
  {
   "cell_type": "code",
   "execution_count": 35,
   "id": "70eced4d",
   "metadata": {
    "height": 251
   },
   "outputs": [],
   "source": [
    "functions = [\n",
    "            {\n",
    "                \"name\": \"calculate_volume_cylinder\",\n",
    "                \"description\": \"To find the volume of a cylinder\",\n",
    "                \"parameters\": {\n",
    "                    \"type\": \"object\",\n",
    "                    \"properties\": {\n",
    "                        \"radius\": {\"type\": \"number\", \"description\": \"The radius of the cylinder\"},\n",
    "                        \"height\": {\"type\": \"number\", \"description\": \"The height of the cylinder\"}\n",
    "                    },\n",
    "                    \"required\": [\"radius\", \"height\"]\n",
    "                }\n",
    "            }\n",
    "        ]"
   ]
  },
  {
   "cell_type": "code",
   "execution_count": 36,
   "id": "925227c6",
   "metadata": {
    "height": 132
   },
   "outputs": [
    {
     "name": "stdout",
     "output_type": "stream",
     "text": [
      "Enter the radius of the cylinder: 5\n",
      "Enter the height of the cylinder: 15\n",
      "Result: 6782.4\n"
     ]
    }
   ],
   "source": [
    "radius = float(input(\"Enter the radius of the cylinder: \"))\n",
    "height = float(input(\"Enter the height of the cylinder: \"))\n",
    "\n",
    "prompt = f\"What is the volume of a cylinder with a radius of {radius} and a height of {height}?\"\n",
    "result = chat_with_openai(prompt)\n",
    "print(\"Result:\", result)\n"
   ]
  }
 ],
 "metadata": {
  "kernelspec": {
   "display_name": "Python 3 (ipykernel)",
   "language": "python",
   "name": "python3"
  },
  "language_info": {
   "codemirror_mode": {
    "name": "ipython",
    "version": 3
   },
   "file_extension": ".py",
   "mimetype": "text/x-python",
   "name": "python",
   "nbconvert_exporter": "python",
   "pygments_lexer": "ipython3",
   "version": "3.9.19"
  }
 },
 "nbformat": 4,
 "nbformat_minor": 5
}
